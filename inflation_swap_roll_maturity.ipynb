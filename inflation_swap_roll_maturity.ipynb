{
  "nbformat": 4,
  "nbformat_minor": 0,
  "metadata": {
    "colab": {
      "name": "inflation swap roll-maturity.ipynb",
      "provenance": [],
      "collapsed_sections": []
    },
    "kernelspec": {
      "name": "python3",
      "display_name": "Python 3"
    },
    "language_info": {
      "name": "python"
    }
  },
  "cells": [
    {
      "cell_type": "code",
      "execution_count": 1,
      "metadata": {
        "id": "5fbhD4S5ZkX-"
      },
      "outputs": [],
      "source": [
        "def swap_value_1(cpi_o,cpi_t,cpi_m,date_sett,date_purc_ann,mat_date,rate_o,rate_t,strip_nt,notional):\n",
        "  '''\n",
        "  the following function evaluates \n",
        "  .the value of an inflation swap on the date of settlement  \n",
        "  . compares the value of selling an existing swap and rolling into a new swap in the current market to holding the original swap\n",
        "\n",
        "  cpi_o- cpi rate original swap\n",
        "  cpi_t- cpi rate at settlement\n",
        "  cpi_m- cpi rate at maturity of swap\n",
        "  date_sett- settlment date today\n",
        "  date_purc_ann-  date original inflation swap was initiated\n",
        "  mat_date- maturity date of  original inflation swap\n",
        "  rate_o,- swap rate on initiation\n",
        "  rate_t,- swap rate on date of settlement date\n",
        "  strip_nt,- rate of a treasury srip to the maturity date of the swap\n",
        "  '''\n",
        "  time=(date_sett-date_purch_ann).days/365.25\n",
        "\n",
        "  # accrued value of swap if evaluated at settlement\n",
        "  accrued=(cpi_t/cpi_o-(1+rate_o)**time)\n",
        "  print('accrued=',accrued)\n",
        "  r_tenor=(mat_date-date_sett).days/365.25\n",
        "\n",
        "  #compute the future value difference between the new swap rate and the original swap rate\n",
        "  gain_rate=(1+rate_t)**r_tenor-(1+rate_o)**r_tenor\n",
        "  print('gain_rate',gain_rate)\n",
        "  #compute the present value of this difference \n",
        "  pv_gain_rate=gain_rate/(1+strip_nt)**r_tenor\n",
        "  print('pv_gain_rate',pv_gain_rate)\n",
        "\n",
        "  # estimate of the value of the original swap priced in the current environment at settlement date\n",
        "  value=accrued +pv_gain_rate\n",
        "\n",
        "  #compute the future value of the  price obtained for the original swap  if sold at settlement date\n",
        "  f_value=value*(1+strip_nt)**r_tenor\n",
        "\n",
        "  #compute the value of a swap initiated on settlment date at maturity(swap roll)\n",
        "  swap_roll=cpi_m/cpi_t-(1+rate_t)**r_tenor\n",
        "  mat_time=(mat_date-date_purc_ann).days/365.25\n",
        "\n",
        "  #compute the value at maturity of holding  original swap\n",
        "  swap_maturity=cpi_m/cpi_o - (1+rate_o)**mat_time\n",
        "\n",
        "  #error represents the difference of liquidating original swap and rolling into a new swap initiated on settlement date vs. holding the original swap to maturity\n",
        "  error=swap_roll+f_value-swap_maturity\n",
        "  return value*notional,f_value*notional,swap_roll*notional,swap_maturity*notional,error*notional"
      ]
    }
  ]
}